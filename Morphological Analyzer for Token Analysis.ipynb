{
  "nbformat": 4,
  "nbformat_minor": 0,
  "metadata": {
    "colab": {
      "provenance": []
    },
    "kernelspec": {
      "name": "python3",
      "display_name": "Python 3"
    },
    "language_info": {
      "name": "python"
    }
  },
  "cells": [
    {
      "cell_type": "code",
      "execution_count": null,
      "metadata": {
        "colab": {
          "base_uri": "https://localhost:8080/"
        },
        "id": "e5IcgOCkY2te",
        "outputId": "8ba6eed1-d662-468c-ab14-0054ecbc7241"
      },
      "outputs": [
        {
          "output_type": "stream",
          "name": "stdout",
          "text": [
            "Enter token : joyful\n",
            "Valid token of 'joyful': '[('joy', '', 'ful')]'\n"
          ]
        }
      ],
      "source": [
        "def analyze(self, token, prefixes, suffixes):\n",
        "  valid_forms = []\n",
        "  for prefix in prefixes:\n",
        "    for suffix in suffixes:\n",
        "      if token.startswith(prefix) and token.endswith(suffix):\n",
        "         root = token[len(prefix):len(token)-len(suffix)]\n",
        "         valid_forms.append((prefix, root, suffix))\n",
        "         return valid_forms\n",
        "\n",
        "\n",
        "prefixes = ['dis', 'joy', 'shame']\n",
        "suffixes = ['ful']\n",
        "analyzer = MorphologicalAnalyzer()\n",
        "\n",
        "# tokens = ['disrespectful', 'joyfull', 'shameful', 'display','displayful']\n",
        "token = input(\"Enter token : \")\n",
        "forms = analyzer.analyze(token, prefixes, suffixes)\n",
        "if forms:\n",
        "  print(f\"Valid token of '{token}': '{forms}'\")\n",
        "else:\n",
        "  print(f\"'{token}' is an invalid surface form.\")\n"
      ]
    }
  ]
}