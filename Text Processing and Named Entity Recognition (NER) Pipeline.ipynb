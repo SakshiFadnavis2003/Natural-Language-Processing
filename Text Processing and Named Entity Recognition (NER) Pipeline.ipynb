{
  "nbformat": 4,
  "nbformat_minor": 0,
  "metadata": {
    "colab": {
      "provenance": []
    },
    "kernelspec": {
      "name": "python3",
      "display_name": "Python 3"
    },
    "language_info": {
      "name": "python"
    }
  },
  "cells": [
    {
      "cell_type": "code",
      "execution_count": null,
      "metadata": {
        "id": "PX9UmsoTCcrH"
      },
      "outputs": [],
      "source": [
        "import pandas as pd"
      ]
    },
    {
      "cell_type": "code",
      "source": [
        "import spacy"
      ],
      "metadata": {
        "id": "hyLsd0rvGMuO"
      },
      "execution_count": null,
      "outputs": []
    },
    {
      "cell_type": "code",
      "source": [
        "import pandas as pd\n",
        "import spacy\n",
        "\n",
        "# Load spaCy English model\n",
        "nlp = spacy.load(\"en_core_web_sm\")\n",
        "\n",
        "# Read the CSV file\n",
        "data = pd.read_csv('/content/News.csv')\n",
        "\n",
        "# Select the first 10 rows\n",
        "data_subset = data.head(10)\n",
        "\n",
        "# Iterate over each row in the subset and process the text\n",
        "for index, row in data_subset.iterrows():\n",
        "    # Process the text using spaCy\n",
        "    doc = nlp(row['News'])\n",
        "\n",
        "    # Print entities and their labels\n",
        "    for ent in doc.ents:\n",
        "        print(ent.text, ent.label_)\n"
      ],
      "metadata": {
        "colab": {
          "base_uri": "https://localhost:8080/"
        },
        "id": "g2-2IMmpGirG",
        "outputId": "f086e793-ba5e-453a-d099-b901a5be5d48"
      },
      "execution_count": null,
      "outputs": [
        {
          "output_type": "stream",
          "name": "stdout",
          "text": [
            "third ORDINAL\n",
            "George W. PERSON\n",
            "Hillary Clinton PERSON\n",
            "John McCain PERSON\n",
            "George Bush PERSON\n",
            "Iran GPE\n",
            "the last 10 years DATE\n",
            "the last two decades DATE\n",
            "Jim Dunnam PERSON\n",
            "years DATE\n",
            "just last year DATE\n",
            "Russ Feingold PERSON\n",
            "Watergate EVENT\n",
            "$19.5 million MONEY\n",
            "Oregon Lottery FAC\n",
            "the Port of Newport FAC\n",
            "NOAA Marine Operations Center-Pacific ORG\n",
            "GOP ORG\n",
            "Glenn Grothman PERSON\n",
            "Joe Leibham PERSON\n",
            "$788 million MONEY\n"
          ]
        }
      ]
    },
    {
      "cell_type": "code",
      "source": [
        "from spacy import displacy\n",
        "displacy.render(doc, style=\"ent\")"
      ],
      "metadata": {
        "colab": {
          "base_uri": "https://localhost:8080/",
          "height": 87
        },
        "id": "WJYpfgo0Gm1G",
        "outputId": "570e6585-43d3-47dd-cfd1-5b36f6aef51a"
      },
      "execution_count": null,
      "outputs": [
        {
          "output_type": "display_data",
          "data": {
            "text/plain": [
              "<IPython.core.display.HTML object>"
            ],
            "text/html": [
              "<span class=\"tex2jax_ignore\"><div class=\"entities\" style=\"line-height: 2.5; direction: ltr\">Says \n",
              "<mark class=\"entity\" style=\"background: #7aecec; padding: 0.45em 0.6em; margin: 0 0.25em; line-height: 1; border-radius: 0.35em;\">\n",
              "    GOP\n",
              "    <span style=\"font-size: 0.8em; font-weight: bold; line-height: 1; border-radius: 0.35em; vertical-align: middle; margin-left: 0.5rem\">ORG</span>\n",
              "</mark>\n",
              " primary opponents \n",
              "<mark class=\"entity\" style=\"background: #aa9cfc; padding: 0.45em 0.6em; margin: 0 0.25em; line-height: 1; border-radius: 0.35em;\">\n",
              "    Glenn Grothman\n",
              "    <span style=\"font-size: 0.8em; font-weight: bold; line-height: 1; border-radius: 0.35em; vertical-align: middle; margin-left: 0.5rem\">PERSON</span>\n",
              "</mark>\n",
              " and \n",
              "<mark class=\"entity\" style=\"background: #aa9cfc; padding: 0.45em 0.6em; margin: 0 0.25em; line-height: 1; border-radius: 0.35em;\">\n",
              "    Joe Leibham\n",
              "    <span style=\"font-size: 0.8em; font-weight: bold; line-height: 1; border-radius: 0.35em; vertical-align: middle; margin-left: 0.5rem\">PERSON</span>\n",
              "</mark>\n",
              " cast a compromise vote that cost \n",
              "<mark class=\"entity\" style=\"background: #e4e7d2; padding: 0.45em 0.6em; margin: 0 0.25em; line-height: 1; border-radius: 0.35em;\">\n",
              "    $788 million\n",
              "    <span style=\"font-size: 0.8em; font-weight: bold; line-height: 1; border-radius: 0.35em; vertical-align: middle; margin-left: 0.5rem\">MONEY</span>\n",
              "</mark>\n",
              " in higher electricity costs.</div></span>"
            ]
          },
          "metadata": {}
        }
      ]
    },
    {
      "cell_type": "code",
      "source": [
        "import nltk\n",
        "nltk.download('punkt')\n",
        "from nltk.tokenize import word_tokenize\n",
        "from nltk.tag import pos_tag\n",
        "\n"
      ],
      "metadata": {
        "colab": {
          "base_uri": "https://localhost:8080/"
        },
        "id": "emnVAULCH4FG",
        "outputId": "38beb28b-cf7f-410e-b4de-3ddfba620ab6"
      },
      "execution_count": null,
      "outputs": [
        {
          "output_type": "stream",
          "name": "stderr",
          "text": [
            "[nltk_data] Downloading package punkt to /root/nltk_data...\n",
            "[nltk_data]   Unzipping tokenizers/punkt.zip.\n"
          ]
        }
      ]
    },
    {
      "cell_type": "code",
      "source": [
        "# Tokenize each entry in the 'text' column\n",
        "sent = data['News'].apply(nltk.word_tokenize)\n",
        "\n",
        "sent"
      ],
      "metadata": {
        "colab": {
          "base_uri": "https://localhost:8080/"
        },
        "id": "uflIaU7JIJLO",
        "outputId": "29796f88-a8f4-4661-88db-8a0b11a77baa"
      },
      "execution_count": null,
      "outputs": [
        {
          "output_type": "execute_result",
          "data": {
            "text/plain": [
              "0        [Says, the, Annies, List, political, group, su...\n",
              "1        [When, did, the, decline, of, coal, start, ?, ...\n",
              "2        [Hillary, Clinton, agrees, with, John, McCain,...\n",
              "3        [Health, care, reform, legislation, is, likely...\n",
              "4        [The, economic, turnaround, started, at, the, ...\n",
              "                               ...                        \n",
              "10235    [There, are, a, larger, number, of, shark, att...\n",
              "10236    [Democrats, have, now, become, the, party, of,...\n",
              "10237    [Says, an, alternative, to, Social, Security, ...\n",
              "10238    [On, lifting, the, U.S., Cuban, embargo, and, ...\n",
              "10239    [The, Department, of, Veterans, Affairs, has, ...\n",
              "Name: News, Length: 10240, dtype: object"
            ]
          },
          "metadata": {},
          "execution_count": 24
        }
      ]
    },
    {
      "cell_type": "code",
      "source": [
        "import nltk\n",
        "nltk.download('averaged_perceptron_tagger')\n",
        "#sent1=nltk.pos_tag(sent)\n",
        "sent1 = sent.apply(nltk.pos_tag)\n",
        "sent1"
      ],
      "metadata": {
        "colab": {
          "base_uri": "https://localhost:8080/"
        },
        "id": "m3Xl4MG0IQeV",
        "outputId": "5502e096-5a71-4b82-cc1f-d4a0e90ce632"
      },
      "execution_count": null,
      "outputs": [
        {
          "output_type": "stream",
          "name": "stderr",
          "text": [
            "[nltk_data] Downloading package averaged_perceptron_tagger to\n",
            "[nltk_data]     /root/nltk_data...\n",
            "[nltk_data]   Package averaged_perceptron_tagger is already up-to-\n",
            "[nltk_data]       date!\n"
          ]
        },
        {
          "output_type": "execute_result",
          "data": {
            "text/plain": [
              "0        [(Says, VBZ), (the, DT), (Annies, NNPS), (List...\n",
              "1        [(When, WRB), (did, VBD), (the, DT), (decline,...\n",
              "2        [(Hillary, NNP), (Clinton, NNP), (agrees, VBZ)...\n",
              "3        [(Health, NNP), (care, NN), (reform, NN), (leg...\n",
              "4        [(The, DT), (economic, JJ), (turnaround, NN), ...\n",
              "                               ...                        \n",
              "10235    [(There, EX), (are, VBP), (a, DT), (larger, JJ...\n",
              "10236    [(Democrats, NNPS), (have, VBP), (now, RB), (b...\n",
              "10237    [(Says, VBZ), (an, DT), (alternative, NN), (to...\n",
              "10238    [(On, IN), (lifting, VBG), (the, DT), (U.S., N...\n",
              "10239    [(The, DT), (Department, NNP), (of, IN), (Vete...\n",
              "Name: News, Length: 10240, dtype: object"
            ]
          },
          "metadata": {},
          "execution_count": 28
        }
      ]
    },
    {
      "cell_type": "code",
      "source": [
        "pattern = 'NP: {<DT>?<JJ>*<NN>}'\n",
        "cp = nltk.RegexpParser(pattern)\n",
        "#cs = cp.parse(sent1)\n",
        "cs = sent1.apply(cp.parse)\n",
        "print(cs)"
      ],
      "metadata": {
        "colab": {
          "base_uri": "https://localhost:8080/"
        },
        "id": "z4kgiZUoI6cF",
        "outputId": "62ab8209-70ee-45cd-c878-56a3eb66e9f5"
      },
      "execution_count": null,
      "outputs": [
        {
          "output_type": "stream",
          "name": "stdout",
          "text": [
            "0        [(Says, VBZ), (the, DT), (Annies, NNPS), (List...\n",
            "1        [(When, WRB), (did, VBD), [(the, DT), (decline...\n",
            "2        [(Hillary, NNP), (Clinton, NNP), (agrees, VBZ)...\n",
            "3        [(Health, NNP), [(care, NN)], [(reform, NN)], ...\n",
            "4        [[(The, DT), (economic, JJ), (turnaround, NN)]...\n",
            "                               ...                        \n",
            "10235    [(There, EX), (are, VBP), (a, DT), (larger, JJ...\n",
            "10236    [(Democrats, NNPS), (have, VBP), (now, RB), (b...\n",
            "10237    [(Says, VBZ), [(an, DT), (alternative, NN)], (...\n",
            "10238    [(On, IN), (lifting, VBG), (the, DT), (U.S., N...\n",
            "10239    [(The, DT), (Department, NNP), (of, IN), (Vete...\n",
            "Name: News, Length: 10240, dtype: object\n"
          ]
        }
      ]
    },
    {
      "cell_type": "code",
      "source": [
        "import nltk\n",
        "nltk.download('words')\n",
        "import nltk\n",
        "nltk.download('maxent_ne_chunker')\n",
        "ne_tree = nltk.ne_chunk(pos_tag(word_tokenize(row['News'])))\n",
        "print(ne_tree)"
      ],
      "metadata": {
        "colab": {
          "base_uri": "https://localhost:8080/"
        },
        "id": "p7aqefqdK4Vn",
        "outputId": "037446b7-95a3-45df-fd03-deb9a0fbe03a"
      },
      "execution_count": null,
      "outputs": [
        {
          "output_type": "stream",
          "name": "stdout",
          "text": [
            "(S\n",
            "  Says/VBZ\n",
            "  (ORGANIZATION GOP/NNP)\n",
            "  primary/JJ\n",
            "  opponents/NNS\n",
            "  (PERSON Glenn/NNP Grothman/NNP)\n",
            "  and/CC\n",
            "  (PERSON Joe/NNP Leibham/NNP)\n",
            "  cast/VBD\n",
            "  a/DT\n",
            "  compromise/NN\n",
            "  vote/NN\n",
            "  that/IN\n",
            "  cost/VBD\n",
            "  $/$\n",
            "  788/CD\n",
            "  million/CD\n",
            "  in/IN\n",
            "  higher/JJR\n",
            "  electricity/NN\n",
            "  costs/NNS\n",
            "  ./.)\n"
          ]
        },
        {
          "output_type": "stream",
          "name": "stderr",
          "text": [
            "[nltk_data] Downloading package words to /root/nltk_data...\n",
            "[nltk_data]   Package words is already up-to-date!\n",
            "[nltk_data] Downloading package maxent_ne_chunker to\n",
            "[nltk_data]     /root/nltk_data...\n",
            "[nltk_data]   Package maxent_ne_chunker is already up-to-date!\n"
          ]
        }
      ]
    }
  ]
}